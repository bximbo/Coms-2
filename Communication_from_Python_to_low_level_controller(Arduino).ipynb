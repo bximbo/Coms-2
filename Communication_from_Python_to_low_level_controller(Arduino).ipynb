{
 "cells": [
  {
   "cell_type": "code",
   "execution_count": 3,
   "id": "2fe29160",
   "metadata": {},
   "outputs": [
    {
     "name": "stdout",
     "output_type": "stream",
     "text": [
      "Failed to connect to Arduino: [Errno 2] could not open port /dev/cu.usbserial-A50285BI: [Errno 2] No such file or directory: '/dev/cu.usbserial-A50285BI'\n"
     ]
    },
    {
     "ename": "AttributeError",
     "evalue": "'NoneType' object has no attribute 'write'",
     "output_type": "error",
     "traceback": [
      "\u001b[0;31m---------------------------------------------------------------------------\u001b[0m",
      "\u001b[0;31mAttributeError\u001b[0m                            Traceback (most recent call last)",
      "Cell \u001b[0;32mIn[3], line 40\u001b[0m\n\u001b[1;32m     37\u001b[0m     ser\u001b[38;5;241m.\u001b[39mclose()\n\u001b[1;32m     39\u001b[0m \u001b[38;5;28;01mif\u001b[39;00m \u001b[38;5;18m__name__\u001b[39m \u001b[38;5;241m==\u001b[39m \u001b[38;5;124m\"\u001b[39m\u001b[38;5;124m__main__\u001b[39m\u001b[38;5;124m\"\u001b[39m:\n\u001b[0;32m---> 40\u001b[0m     main()\n",
      "Cell \u001b[0;32mIn[3], line 34\u001b[0m, in \u001b[0;36mmain\u001b[0;34m()\u001b[0m\n\u001b[1;32m     32\u001b[0m \u001b[38;5;66;03m# Example usage of the send_command function\u001b[39;00m\n\u001b[1;32m     33\u001b[0m command_to_send \u001b[38;5;241m=\u001b[39m \u001b[38;5;124m\"\u001b[39m\u001b[38;5;124mA\u001b[39m\u001b[38;5;124m\"\u001b[39m  \u001b[38;5;66;03m# Replace with the actual command you want to send (a letter or number)\u001b[39;00m\n\u001b[0;32m---> 34\u001b[0m send_command(ser, command_to_send)\n\u001b[1;32m     36\u001b[0m \u001b[38;5;66;03m# Close the serial connection before exiting the script\u001b[39;00m\n\u001b[1;32m     37\u001b[0m ser\u001b[38;5;241m.\u001b[39mclose()\n",
      "Cell \u001b[0;32mIn[3], line 21\u001b[0m, in \u001b[0;36msend_command\u001b[0;34m(ser, command)\u001b[0m\n\u001b[1;32m     19\u001b[0m \u001b[38;5;28;01mdef\u001b[39;00m \u001b[38;5;21msend_command\u001b[39m(ser, command):\n\u001b[1;32m     20\u001b[0m     \u001b[38;5;28;01mtry\u001b[39;00m:\n\u001b[0;32m---> 21\u001b[0m         ser\u001b[38;5;241m.\u001b[39mwrite(command\u001b[38;5;241m.\u001b[39mencode())  \u001b[38;5;66;03m# Send command to Arduino\u001b[39;00m\n\u001b[1;32m     22\u001b[0m         time\u001b[38;5;241m.\u001b[39msleep(\u001b[38;5;241m1\u001b[39m)  \u001b[38;5;66;03m# Wait for Arduino to process the command\u001b[39;00m\n\u001b[1;32m     23\u001b[0m         response \u001b[38;5;241m=\u001b[39m ser\u001b[38;5;241m.\u001b[39mreadline()\u001b[38;5;241m.\u001b[39mdecode()\u001b[38;5;241m.\u001b[39mstrip()  \u001b[38;5;66;03m# Read response\u001b[39;00m\n",
      "\u001b[0;31mAttributeError\u001b[0m: 'NoneType' object has no attribute 'write'"
     ]
    }
   ],
   "source": [
    "import time\n",
    "import serial\n",
    "\n",
    "# Arduino configuration\n",
    "arduino_port = \"/dev/cu.usbserial-A50285BI\"  # Replace with the correct port name for your Arduino\n",
    "baud_rate = 115200\n",
    "\n",
    "# Create a serial connection with the Arduino\n",
    "def create_serial_connection(port, baud_rate):\n",
    "    try:\n",
    "        ser = serial.Serial(port, baud_rate, timeout=1)\n",
    "        time.sleep(2)  # Wait for the connection to establish\n",
    "        return ser\n",
    "    except serial.SerialException as e:\n",
    "        print(f\"Failed to connect to Arduino: {e}\")\n",
    "        exit(1)\n",
    "\n",
    "# Function to send serial command to the Arduino\n",
    "def send_command(ser, command):\n",
    "    try:\n",
    "        ser.write(command.encode())  # Send command to Arduino\n",
    "        time.sleep(1)  # Wait for Arduino to process the command\n",
    "        response = ser.readline().decode().strip()  # Read response\n",
    "        print(f\"Arduino Response: {response}\")\n",
    "    except serial.SerialException as e:\n",
    "        print(f\"Serial Exception: {e}\")\n",
    "\n",
    "def main():\n",
    "    # Create a serial connection with the Arduino\n",
    "    ser = create_serial_connection(arduino_port, baud_rate)\n",
    "\n",
    "    # Example usage of the send_command function\n",
    "    command_to_send = \"A\"  # Replace with the actual command you want to send (a letter or number)\n",
    "    send_command(ser, command_to_send)\n",
    "\n",
    "    # Close the serial connection before exiting the script\n",
    "    ser.close()\n",
    "\n",
    "if __name__ == \"__main__\":\n",
    "    main()\n",
    "    "
   ]
  },
  {
   "cell_type": "code",
   "execution_count": null,
   "id": "e17b5c71",
   "metadata": {},
   "outputs": [],
   "source": [
    "import casadi as ca\n",
    "\n",
    "# Define CasADi MX symbols\n",
    "theta1 = ca.MX.sym('theta1')\n",
    "theta2 = ca.MX.sym('theta2')\n",
    "l1 = ca.MX.sym('l1')\n",
    "l2 = ca.MX.sym('l2')\n",
    "\n",
    "# Define the forward kinematics equations for CasADi\n",
    "xe_ca = l1 * ca.cos(theta1) + l2 * ca.cos(theta1 + theta2)\n",
    "ye_ca = l1 * ca.sin(theta1) + l2 * ca.sin(theta1 + theta2)\n",
    "\n",
    "# Combine into a vector\n",
    "end_effector_ca = ca.vertcat(xe_ca, ye_ca)\n",
    "\n",
    "# Compute the Jacobian matrix using CasADi\n",
    "jacobian_ca = ca.jacobian(end_effector_ca, ca.vertcat(theta1, theta2))\n",
    "\n",
    "# Create a CasADi function for the Jacobian \n",
    "J_func = ca.Function('J_func', [theta1, theta2, l1, l2], [jacobian_ca])\n",
    "\n",
    "# Compute the inverse of the Jacobian matrix using CasADi\n",
    "jacobian_inv_ca = ca.inv(jacobian_ca)\n",
    "\n",
    "# Create a CasADi function for the Jacobian inverse\n",
    "jacobian_inv_func = ca.Function('jacobian_inv_ca', [theta1, theta2, l1, l2], [jacobian_inv_ca])\n",
    "\n",
    "# Example usage with CasADi\n",
    "theta1_degree = 0.01      # Initial values\n",
    "theta2_degree = 179.9      # Initial values\n",
    "\n",
    "#converted to radian\n",
    "theta1_val = ((theta1_degree * ca.pi) / 180)\n",
    "theta2_val = ((theta2_degree * ca.pi) / 180)\n",
    "l1_val = 14.0\n",
    "l2_val = 15.0\n",
    "\n",
    "\n",
    "# Request user input for the next position\n",
    "xe_2 = float(input(\"\\nEnter the Target x-coordinate of the next position: \"))\n",
    "ye_2 = float(input(\"Enter the Target y-coordinate of the next position: \"))\n",
    "new_position = ca.vertcat(xe_2, ye_2)\n",
    "\n",
    "# Iterative loop to update position\n",
    "tolerance = 1e-7  # Define a tolerance for convergence\n",
    "max_iterations = 200  # Define a maximum number of iterations\n",
    "iteration = 0\n",
    "\n",
    "while iteration < max_iterations:\n",
    "    # Compute the current end effector position\n",
    "    current_position = ca.vertcat(\n",
    "        l1_val * ca.cos(theta1_val) + l2_val * ca.cos(theta1_val + theta2_val),\n",
    "        l1_val * ca.sin(theta1_val) + l2_val * ca.sin(theta1_val + theta2_val)\n",
    "    )\n",
    "    \n",
    "    # Calculate the difference between the current and target positions\n",
    "    dx = new_position - current_position\n",
    "    \n",
    "    # Covert Inverse Jacobian function into a Dense Matrix or DM\n",
    "    jacobian_inv_val = jacobian_inv_func(theta1_val, theta2_val, l1_val, l2_val)\n",
    "    \n",
    "    # Calculate the change in joint angles\n",
    "    dq = jacobian_inv_val @ dx\n",
    "    \n",
    "    # Update joint angles\n",
    "    theta1_val = theta1_val + dq[0]\n",
    "    theta2_val = theta2_val + dq[1]\n",
    "    \n",
    "    # Check for convergence\n",
    "    if ca.norm_2(dx) < tolerance:\n",
    "        print(\"\\nConvergence achieved.\")\n",
    "        break\n",
    "\n",
    "    iteration += 1\n",
    "\n",
    "if iteration >= max_iterations:\n",
    "    print(\"\\nMax iterations reached. Convergence not achieved.\")\n",
    "\n",
    "print(f\"\\nFinal joint angles: {theta1_val, theta2_val}\")\n",
    "print(f\"Final end effector position: {new_position}\")\n"
   ]
  },
  {
   "cell_type": "code",
   "execution_count": 2,
   "id": "8b7a2eb1",
   "metadata": {},
   "outputs": [
    {
     "data": {
      "text/plain": [
       "time.struct_time(tm_year=1970, tm_mon=1, tm_mday=1, tm_hour=0, tm_min=0, tm_sec=0, tm_wday=3, tm_yday=1, tm_isdst=0)"
      ]
     },
     "execution_count": 2,
     "metadata": {},
     "output_type": "execute_result"
    }
   ],
   "source": [
    "import time\n",
    "time.gmtime(0)"
   ]
  }
 ],
 "metadata": {
  "kernelspec": {
   "display_name": "Python 3 (ipykernel)",
   "language": "python",
   "name": "python3"
  },
  "language_info": {
   "codemirror_mode": {
    "name": "ipython",
    "version": 3
   },
   "file_extension": ".py",
   "mimetype": "text/x-python",
   "name": "python",
   "nbconvert_exporter": "python",
   "pygments_lexer": "ipython3",
   "version": "3.11.5"
  }
 },
 "nbformat": 4,
 "nbformat_minor": 5
}
